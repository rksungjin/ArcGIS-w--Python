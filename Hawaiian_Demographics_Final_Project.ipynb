{
 "metadata": {
  "language_info": {
   "codemirror_mode": {
    "name": "ipython",
    "version": 3
   },
   "file_extension": ".py",
   "mimetype": "text/x-python",
   "name": "python",
   "nbconvert_exporter": "python",
   "pygments_lexer": "ipython3",
   "version": 3
  },
  "orig_nbformat": 2
 },
 "nbformat": 4,
 "nbformat_minor": 2,
 "cells": [
  {
   "cell_type": "code",
   "execution_count": null,
   "metadata": {},
   "outputs": [],
   "source": [
    "import pandas as pd\n",
    "import numpy as np"
   ]
  },
  {
   "cell_type": "code",
   "execution_count": null,
   "metadata": {},
   "outputs": [],
   "source": [
    "data = pd.read_csv(\"C:/Users/RK/Desktop/demographics/allstates.csv\")"
   ]
  },
  {
   "cell_type": "code",
   "execution_count": null,
   "metadata": {},
   "outputs": [],
   "source": [
    "data[\"Hawaiian\"] = np.where((data.IMPRACE == 5) | (data.IMPRACE == 9) |\n",
    "    (data.IMPRACE == 12) | (data.IMPRACE == 14) |\n",
    "    (data.IMPRACE == 15) | (data.IMPRACE == 18) |\n",
    "    (data.IMPRACE == 20) | (data.IMPRACE == 21) |\n",
    "    (data.IMPRACE == 23) | (data.IMPRACE == 24) |\n",
    "    (data.IMPRACE == 25) | (data.IMPRACE >= 27),True,False)\n",
    "data = data.loc[data.Hawaiian]"
   ]
  },
  {
   "cell_type": "code",
   "execution_count": null,
   "metadata": {},
   "outputs": [],
   "source": [
    "data[\"FIPS\"] = data[\"STATE\"] * 1000 + data[\"COUNTY\"]"
   ]
  },
  {
   "cell_type": "code",
   "execution_count": null,
   "metadata": {},
   "outputs": [],
   "source": [
    "youthData = data.loc[data[\"AGEGRP\"] < 5]\n",
    "youngAdultData = data.loc[(data[\"AGEGRP\"] >= 20) & (data[\"AGEGRP\"] <=44)]\n",
    "olderAdultData = data.loc[(data[\"AGEGRP\"] >= 45) & (data[\"AGEGRP\"] <=65)]\n",
    "seniorData = data.loc[data[\"AGEGRP\"] > 13]"
   ]
  },
  {
   "cell_type": "code",
   "execution_count": null,
   "metadata": {},
   "outputs": [],
   "source": [
    "youthPivot = pd.pivot_table(youthData, values=\"RESPOP\", index=\"FIPS\", aggfunc=\"sum\")\n",
    "youngAdultPivot = pd.pivot_table(youngAdultData, values=\"RESPOP\", index=\"FIPS\", aggfunc=\"sum\")\n",
    "olderAdultPivot = pd.pivot_table(olderAdultData, values=\"RESPOP\", index=\"FIPS\", aggfunc=\"sum\")\n",
    "seniorPivot = pd.pivot_table(seniorData, values=\"RESPOP\", index=\"FIPS\", aggfunc=\"sum\")"
   ]
  },
  {
   "cell_type": "code",
   "execution_count": null,
   "metadata": {},
   "outputs": [],
   "source": [
    "youthPivot =  youthPivot.rename(columns = {\"RESPOP\":\"youthCount\"})\n",
    "youngAdultPivot =  youngAdultPivot.rename(columns = {\"RESPOP\":\"youngAdultCount\"})\n",
    "olderAdultPivot =  olderAdultPivot.rename(columns = {\"RESPOP\":\"olderAdultCount\"})\n",
    "seniorPivot =  seniorPivot.rename(columns = {\"RESPOP\":\"seniorCount\"})"
   ]
  }
 ]
}