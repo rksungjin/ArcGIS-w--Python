{
 "metadata": {
  "language_info": {
   "codemirror_mode": {
    "name": "ipython",
    "version": 3
   },
   "file_extension": ".py",
   "mimetype": "text/x-python",
   "name": "python",
   "nbconvert_exporter": "python",
   "pygments_lexer": "ipython3",
   "version": 3
  },
  "orig_nbformat": 2
 },
 "nbformat": 4,
 "nbformat_minor": 2,
 "cells": [
  {
   "cell_type": "code",
   "execution_count": null,
   "metadata": {},
   "outputs": [],
   "source": [
    "import pandas as pd\n",
    "import numpy as np"
   ]
  },
  {
   "cell_type": "code",
   "execution_count": null,
   "metadata": {},
   "outputs": [],
   "source": [
    "data = pd.read_csv(\"https://usafactsstatic.blob.core.windows.net/public/data/covid-19/covid_confirmed_usafacts.csv\")\n",
    "deathData = pd.read_csv(\"https://usafactsstatic.blob.core.windows.net/public/data/covid-19/covid_deaths_usafacts.csv\")\n",
    "data = data.loc[data.countyFIPS > 1000]\n",
    "data = data.loc[data.countyFIPS.isnull() == False]\n",
    "deathData = deathData.loc[deathData.countyFIPS > 1000]\n",
    "deathData = deathData.loc[deathData.countyFIPS.isnull() == False]"
   ]
  },
  {
   "cell_type": "code",
   "execution_count": null,
   "metadata": {},
   "outputs": [],
   "source": [
    "# Restrict the data to several states\n",
    "data = data.loc[(data.State == \"TX\") | (data.State == \"NY\")]\n",
    "deathData = deathData.loc[(deathData.State == \"TX\") |(deathData.State == \"NY\")]\n",
    "# get a listing of the column names (which are the dates)\n",
    "collist=data.columns.tolist()\n",
    "# create a new data frame with just the FIPS, the cases, the deaths, and a date\n",
    "newData = pd.DataFrame(columns=['countyFIPS','count','deaths','dateStamp'])\n"
   ]
  },
  {
   "cell_type": "code",
   "execution_count": null,
   "metadata": {},
   "outputs": [],
   "source": [
    "count = 0\n",
    "for col in collist :\n",
    "    count = count + 1\n",
    "    if count < 5 :\n",
    "        continue\n",
    "    temp = pd.DataFrame(columns=['countyFIPS','count','deaths','dateStamp'])\n",
    "    temp[\"countyFIPS\"] = data[\"countyFIPS\"]\n",
    "    temp[\"count\"]=data[col]\n",
    "    temp[\"deaths\"] = deathData[col]\n",
    "    #YYYY/MM/DD\n",
    "    dateParts=col.split('/')\n",
    "    dateString = \"20\" + dateParts[2]\n",
    "    if len(dateParts[0]) == 1 :\n",
    "        dateString = dateString + \"0\" + dateParts[0]\n",
    "    else :\n",
    "        dateString = dateString + dateParts[0]\n",
    "    if len(dateParts[1]) == 1 :\n",
    "        dateString = dateString + \"0\" + dateParts[1]\n",
    "    else :\n",
    "        dateString = dateString + dateParts[1]\n",
    "    temp['dateStamp'] = dateString\n",
    "    newData = newData.append(temp)\n"
   ]
  }
 ]
}