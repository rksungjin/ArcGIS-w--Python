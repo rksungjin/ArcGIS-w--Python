{
 "metadata": {
  "language_info": {
   "codemirror_mode": {
    "name": "ipython",
    "version": 3
   },
   "file_extension": ".py",
   "mimetype": "text/x-python",
   "name": "python",
   "nbconvert_exporter": "python",
   "pygments_lexer": "ipython3",
   "version": 3
  },
  "orig_nbformat": 2
 },
 "nbformat": 4,
 "nbformat_minor": 2,
 "cells": [
  {
   "cell_type": "code",
   "execution_count": null,
   "metadata": {},
   "outputs": [],
   "source": [
    "import pandas as pd\n",
    "import numpy as np"
   ]
  },
  {
   "cell_type": "code",
   "execution_count": null,
   "metadata": {},
   "outputs": [],
   "source": [
    "data = pd.read_csv(\"https://usafactsstatic.blob.core.windows.net/public/data/covid-19/covid_confirmed_usafacts.csv\")\n",
    "data = data.loc[data.countyFIPS != 0]\n",
    "data = data.loc[data.countyFIPS.isnull() == False]\n",
    "data = data.loc[data.State == \"TX\"]"
   ]
  },
  {
   "cell_type": "code",
   "execution_count": null,
   "metadata": {},
   "outputs": [],
   "source": [
    "# get a listing of the column names (which are the dates)\n",
    "collist=data.columns.tolist()\n",
    "# create a new data frame with just the FIPS, the count, and a date\n",
    "newData = pd.DataFrame(columns=['countyFIPS','count','dateStamp'])"
   ]
  }
 ]
}